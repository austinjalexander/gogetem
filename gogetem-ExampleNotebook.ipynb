{
 "cells": [
  {
   "cell_type": "markdown",
   "metadata": {},
   "source": [
    "###IMPORTS"
   ]
  },
  {
   "cell_type": "code",
   "execution_count": 1,
   "metadata": {
    "collapsed": true
   },
   "outputs": [],
   "source": [
    "import os\n",
    "from time import time\n",
    "import requests\n",
    "import urllib\n",
    "import numpy as np\n",
    "import pandas as pd"
   ]
  },
  {
   "cell_type": "markdown",
   "metadata": {},
   "source": [
    "###CONFIGURE"
   ]
  },
  {
   "cell_type": "code",
   "execution_count": 2,
   "metadata": {
    "collapsed": false
   },
   "outputs": [],
   "source": [
    "search_keyword = \"apple\"\n",
    "num_of_images = 1000\n",
    "num_of_batches = np.ceil(np.true_divide(num_of_images,500)) # Flickr API constraint: max per page == 500\n",
    "\n",
    "# create storage area for data and image files\n",
    "try:\n",
    "    os.makedirs(search_keyword)\n",
    "    for i in xrange(1,int(num_of_batches)+1):\n",
    "        os.makedirs(search_keyword + \"/batch{}\".format(i))\n",
    "except:\n",
    "    print \"Storage area already exists for this keyword.\""
   ]
  },
  {
   "cell_type": "markdown",
   "metadata": {},
   "source": [
    "###QUERY FLICKR PHOTO SEARCH API"
   ]
  },
  {
   "cell_type": "code",
   "execution_count": 3,
   "metadata": {
    "collapsed": false
   },
   "outputs": [
    {
     "name": "stdout",
     "output_type": "stream",
     "text": [
      "HTTP request status code: 200\n",
      "First result from Flickr photo-search result from batch 1:\n",
      "{u'isfamily': 0, u'title': u'Time to start getting psyched for Halloween! Here to kick of Spooky Season is our Poison Apple cr\\xeape. Crisp fall apples, Ghirardelli caramel drizzle, topped with walnuts and lightly sprinkled with sea salt. \\U0001f480\\U0001f341\\U0001f47b #boo #thecrepery #log', u'farm': 6, u'ispublic': 1, u'server': u'5726', u'isfriend': 0, u'secret': u'b68a30c066', u'owner': u'90074569@N03', u'id': u'21045332644'}\n",
      "download time for batch 1: 497.43 seconds\n",
      "HTTP request status code: 200\n",
      "First result from Flickr photo-search result from batch 2:\n",
      "{u'isfamily': 0, u'title': u'Red Wine', u'farm': 6, u'ispublic': 1, u'server': u'5753', u'isfriend': 0, u'secret': u'7294fbd185', u'owner': u'7992704@N05', u'id': u'21469578298'}\n",
      "download time for batch 2: 527.37 seconds\n"
     ]
    }
   ],
   "source": [
    "for batch in xrange(1,int(num_of_batches)+1):\n",
    "    print \"\\n\", \"-\"*20 # output a separator\n",
    "    \n",
    "    rest_query = \"https://api.flickr.com/services/rest/?method=flickr.photos.search&api_key={0}&text={1}&per_page={2}&page={3}&format=json&nojsoncallback=1\".format(os.environ['FLICKR_API_KEY'], search_keyword, num_of_images, batch)\n",
    "    r = requests.get(rest_query)\n",
    "    print \"\\tHTTP request status code:\", r.status_code\n",
    "    # if 200 isn't returned, let user know and break\n",
    "    if r.status_code != 200:\n",
    "        print \"[An error occured with the HTTP request.]\"\n",
    "        break\n",
    "    # otherwise\n",
    "    else:\n",
    "        results = r.json()\n",
    "        # output an example\n",
    "        print \"First result from Flickr photo-search result from batch {}:\".format(batch)\n",
    "        print results['photos']['photo'][0]\n",
    "        \n",
    "        # this dataframe will store image information\n",
    "        images_df = pd.DataFrame(columns=['batch', 'index', 'url'])\n",
    "\n",
    "        # track current image index\n",
    "        index = 0 \n",
    "\n",
    "        # track time\n",
    "        time0 = time()\n",
    "\n",
    "        # loop through each result photo \n",
    "        for photo in results['photos']['photo']:\n",
    "\n",
    "            # relevant values for creating Flickr image URLs\n",
    "            # (see: https://www.flickr.com/services/api/misc.urls.html)\n",
    "            farm_id = photo['farm']\n",
    "            server_id = photo['server']\n",
    "            photo_id = photo['id']\n",
    "            secret = photo['secret']\n",
    "            size = 'm' # size of image (e.g., 's' [75x75], 'm' [longest side 240])\n",
    "\n",
    "            # Flickr image URL format\n",
    "            image_url = 'https://farm{0}.staticflickr.com/{1}/{2}_{3}_{4}.'.format(farm_id, server_id, photo_id, secret, size)\n",
    "\n",
    "            # try each of the three file-format extensions (the three suggested by Flickr), \n",
    "            # breaking after success\n",
    "            for img_format in ['jpg', 'gif', 'png']:\n",
    "                r = requests.get(image_url + img_format)\n",
    "                if r.status_code == 200:\n",
    "                    image_url += img_format\n",
    "                    break\n",
    "\n",
    "            # save image to file\n",
    "            new_filename = str(index) + image_url[-4:] # filename will be index followed my image format extension\n",
    "            new_filepath = \"{0}/batch{1}/{2}\".format(search_keyword, batch, new_filename)\n",
    "            urllib.urlretrieve(image_url, new_filepath) # download image to appropriate location\n",
    "\n",
    "            # create new record for dataframe\n",
    "            new_image_df = pd.DataFrame({'batch':[batch], 'index':[index], 'url':[image_url]})\n",
    "\n",
    "            # add new record to images dataframe\n",
    "            images_df = pd.concat([images_df, new_image_df])\n",
    "\n",
    "            # increment the image index on each iteration\n",
    "            index += 1\n",
    "\n",
    "        print \"\\ndownload time for batch {}:\".format(batch), round(time() - time0, 2), \"seconds\"\n",
    "        \n",
    "        # save image data to csv file\n",
    "        data_filepath = \"{0}/batch{1}/image_data.csv\".format(search_keyword, batch)\n",
    "        images_df.to_csv(data_filepath, index=False)"
   ]
  },
  {
   "cell_type": "markdown",
   "metadata": {},
   "source": [
    "###SANITY CHECK"
   ]
  },
  {
   "cell_type": "code",
   "execution_count": 10,
   "metadata": {
    "collapsed": true
   },
   "outputs": [],
   "source": [
    "data_filepath = \"{0}/batch1/image_data.csv\".format(search_keyword)"
   ]
  },
  {
   "cell_type": "code",
   "execution_count": 11,
   "metadata": {
    "collapsed": false
   },
   "outputs": [
    {
     "data": {
      "text/html": [
       "<div style=\"max-height:1000px;max-width:1500px;overflow:auto;\">\n",
       "<table border=\"1\" class=\"dataframe\">\n",
       "  <thead>\n",
       "    <tr style=\"text-align: right;\">\n",
       "      <th></th>\n",
       "      <th>batch</th>\n",
       "      <th>index</th>\n",
       "      <th>url</th>\n",
       "    </tr>\n",
       "  </thead>\n",
       "  <tbody>\n",
       "    <tr>\n",
       "      <th>0</th>\n",
       "      <td>1</td>\n",
       "      <td>0</td>\n",
       "      <td>https://farm6.staticflickr.com/5726/2104533264...</td>\n",
       "    </tr>\n",
       "    <tr>\n",
       "      <th>1</th>\n",
       "      <td>1</td>\n",
       "      <td>1</td>\n",
       "      <td>https://farm1.staticflickr.com/724/21480996569...</td>\n",
       "    </tr>\n",
       "    <tr>\n",
       "      <th>2</th>\n",
       "      <td>1</td>\n",
       "      <td>2</td>\n",
       "      <td>https://farm6.staticflickr.com/5752/2148099256...</td>\n",
       "    </tr>\n",
       "    <tr>\n",
       "      <th>3</th>\n",
       "      <td>1</td>\n",
       "      <td>3</td>\n",
       "      <td>https://farm1.staticflickr.com/591/21667710475...</td>\n",
       "    </tr>\n",
       "    <tr>\n",
       "      <th>4</th>\n",
       "      <td>1</td>\n",
       "      <td>4</td>\n",
       "      <td>https://farm6.staticflickr.com/5755/2164158936...</td>\n",
       "    </tr>\n",
       "  </tbody>\n",
       "</table>\n",
       "</div>"
      ],
      "text/plain": [
       "   batch  index                                                url\n",
       "0      1      0  https://farm6.staticflickr.com/5726/2104533264...\n",
       "1      1      1  https://farm1.staticflickr.com/724/21480996569...\n",
       "2      1      2  https://farm6.staticflickr.com/5752/2148099256...\n",
       "3      1      3  https://farm1.staticflickr.com/591/21667710475...\n",
       "4      1      4  https://farm6.staticflickr.com/5755/2164158936..."
      ]
     },
     "execution_count": 11,
     "metadata": {},
     "output_type": "execute_result"
    }
   ],
   "source": [
    "# check top records\n",
    "pd.read_csv(data_filepath).head()"
   ]
  },
  {
   "cell_type": "code",
   "execution_count": 12,
   "metadata": {
    "collapsed": false
   },
   "outputs": [
    {
     "data": {
      "text/html": [
       "<div style=\"max-height:1000px;max-width:1500px;overflow:auto;\">\n",
       "<table border=\"1\" class=\"dataframe\">\n",
       "  <thead>\n",
       "    <tr style=\"text-align: right;\">\n",
       "      <th></th>\n",
       "      <th>batch</th>\n",
       "      <th>index</th>\n",
       "      <th>url</th>\n",
       "    </tr>\n",
       "  </thead>\n",
       "  <tbody>\n",
       "    <tr>\n",
       "      <th>495</th>\n",
       "      <td>1</td>\n",
       "      <td>495</td>\n",
       "      <td>https://farm6.staticflickr.com/5763/2103626095...</td>\n",
       "    </tr>\n",
       "    <tr>\n",
       "      <th>496</th>\n",
       "      <td>1</td>\n",
       "      <td>496</td>\n",
       "      <td>https://farm6.staticflickr.com/5832/2146943165...</td>\n",
       "    </tr>\n",
       "    <tr>\n",
       "      <th>497</th>\n",
       "      <td>1</td>\n",
       "      <td>497</td>\n",
       "      <td>https://farm1.staticflickr.com/769/21474936548...</td>\n",
       "    </tr>\n",
       "    <tr>\n",
       "      <th>498</th>\n",
       "      <td>1</td>\n",
       "      <td>498</td>\n",
       "      <td>https://farm6.staticflickr.com/5717/2147594957...</td>\n",
       "    </tr>\n",
       "    <tr>\n",
       "      <th>499</th>\n",
       "      <td>1</td>\n",
       "      <td>499</td>\n",
       "      <td>https://farm1.staticflickr.com/582/21651267422...</td>\n",
       "    </tr>\n",
       "  </tbody>\n",
       "</table>\n",
       "</div>"
      ],
      "text/plain": [
       "     batch  index                                                url\n",
       "495      1    495  https://farm6.staticflickr.com/5763/2103626095...\n",
       "496      1    496  https://farm6.staticflickr.com/5832/2146943165...\n",
       "497      1    497  https://farm1.staticflickr.com/769/21474936548...\n",
       "498      1    498  https://farm6.staticflickr.com/5717/2147594957...\n",
       "499      1    499  https://farm1.staticflickr.com/582/21651267422..."
      ]
     },
     "execution_count": 12,
     "metadata": {},
     "output_type": "execute_result"
    }
   ],
   "source": [
    "# check bottom records\n",
    "pd.read_csv(data_filepath).tail()"
   ]
  }
 ],
 "metadata": {
  "kernelspec": {
   "display_name": "Python 2",
   "language": "python",
   "name": "python2"
  },
  "language_info": {
   "codemirror_mode": {
    "name": "ipython",
    "version": 2
   },
   "file_extension": ".py",
   "mimetype": "text/x-python",
   "name": "python",
   "nbconvert_exporter": "python",
   "pygments_lexer": "ipython2",
   "version": "2.7.10"
  }
 },
 "nbformat": 4,
 "nbformat_minor": 0
}
