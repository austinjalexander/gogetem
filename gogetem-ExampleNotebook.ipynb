{
 "cells": [
  {
   "cell_type": "markdown",
   "metadata": {},
   "source": [
    "###IMPORTS"
   ]
  },
  {
   "cell_type": "code",
   "execution_count": 1,
   "metadata": {
    "collapsed": true
   },
   "outputs": [],
   "source": [
    "import os\n",
    "from time import time\n",
    "import requests\n",
    "import urllib\n",
    "import numpy as np\n",
    "import pandas as pd"
   ]
  },
  {
   "cell_type": "markdown",
   "metadata": {},
   "source": [
    "###CONFIGURE"
   ]
  },
  {
   "cell_type": "code",
   "execution_count": null,
   "metadata": {
    "collapsed": false
   },
   "outputs": [],
   "source": [
    "search_keyword = \"apple\"\n",
    "num_of_images = 1000\n",
    "num_of_batches = np.ceil(np.true_divide(num_of_images,500)) # Flickr API constraint: max per page == 500\n",
    "\n",
    "# create storage area for data and image files\n",
    "try:\n",
    "    os.makedirs(search_keyword)\n",
    "    for i in xrange(1,int(num_of_batches)+1):\n",
    "        os.makedirs(search_keyword + \"/batch{}\".format(i))\n",
    "except:\n",
    "    print \"Storage area already exists for this keyword.\""
   ]
  },
  {
   "cell_type": "markdown",
   "metadata": {},
   "source": [
    "###QUERY FLICKR PHOTO SEARCH API"
   ]
  },
  {
   "cell_type": "code",
   "execution_count": null,
   "metadata": {
    "collapsed": false
   },
   "outputs": [
    {
     "name": "stdout",
     "output_type": "stream",
     "text": [
      "\n",
      "--------------------\n",
      "\tHTTP request status code:"
     ]
    }
   ],
   "source": [
    "for batch in xrange(1,int(num_of_batches)+1):\n",
    "    print \"\\n\", \"-\"*20 # output a separator\n",
    "    \n",
    "    rest_query = \"https://api.flickr.com/services/rest/?method=flickr.photos.search&api_key={0}&text={1}&per_page={2}&page={3}&format=json&nojsoncallback=1\".format(os.environ['FLICKR_API_KEY'], search_keyword, num_of_images, batch)\n",
    "    r = requests.get(rest_query)\n",
    "    print \"\\tHTTP request status code:\", r.status_code\n",
    "    # if 200 isn't returned, let user know and break\n",
    "    if r.status_code != 200:\n",
    "        print \"[An error occured with the HTTP request.]\"\n",
    "        break\n",
    "    # otherwise\n",
    "    else:\n",
    "        results = r.json()\n",
    "        # output an example\n",
    "        print \"First result from Flickr photo-search result from batch {}:\".format(batch)\n",
    "        print results['photos']['photo'][0]\n",
    "        \n",
    "        # this dataframe will store image information\n",
    "        images_df = pd.DataFrame(columns=['batch', 'index', 'url'])\n",
    "\n",
    "        # track current image index\n",
    "        index = 0 \n",
    "\n",
    "        # track time\n",
    "        time0 = time()\n",
    "\n",
    "        # loop through each result photo \n",
    "        for photo in results['photos']['photo']:\n",
    "\n",
    "            # relevant values for creating Flickr image URLs\n",
    "            # (see: https://www.flickr.com/services/api/misc.urls.html)\n",
    "            farm_id = photo['farm']\n",
    "            server_id = photo['server']\n",
    "            photo_id = photo['id']\n",
    "            secret = photo['secret']\n",
    "            size = 'm' # size of image (e.g., 's' [75x75], 'm' [longest side 240])\n",
    "\n",
    "            # Flickr image URL format\n",
    "            image_url = 'https://farm{0}.staticflickr.com/{1}/{2}_{3}_{4}.'.format(farm_id, server_id, photo_id, secret, size)\n",
    "\n",
    "            # try each of the three file-format extensions (the three suggested by Flickr), \n",
    "            # breaking after success\n",
    "            for img_format in ['jpg', 'gif', 'png']:\n",
    "                r = requests.get(image_url + img_format)\n",
    "                if r.status_code == 200:\n",
    "                    image_url += img_format\n",
    "                    break\n",
    "\n",
    "            # save image to file\n",
    "            new_filename = str(index) + image_url[-4:] # filename will be index followed my image format extension\n",
    "            new_filepath = \"{0}/batch{1}/{2}\".format(search_keyword, batch, new_filename)\n",
    "            urllib.urlretrieve(image_url, new_filepath) # download image to appropriate location\n",
    "\n",
    "            # create new record for dataframe\n",
    "            new_image_df = pd.DataFrame({'batch':[batch], 'index':[index], 'url':[image_url]})\n",
    "\n",
    "            # add new record to images dataframe\n",
    "            images_df = pd.concat([images_df, new_image_df])\n",
    "\n",
    "            # increment the image index on each iteration\n",
    "            index += 1\n",
    "\n",
    "        print \"\\ndownload time for batch {}:\".format(batch), round(time() - time0, 2), \"seconds\"\n",
    "        \n",
    "        # save image data to csv file\n",
    "        data_filepath = \"{0}/batch{1}/image_data.csv\".format(search_keyword, batch)\n",
    "        images_df.to_csv(data_filepath, index=False)"
   ]
  },
  {
   "cell_type": "markdown",
   "metadata": {},
   "source": [
    "###SANITY CHECK"
   ]
  },
  {
   "cell_type": "code",
   "execution_count": null,
   "metadata": {
    "collapsed": true
   },
   "outputs": [],
   "source": [
    "data_filepath = \"{0}/batch1/image_data.csv\".format(search_keyword)"
   ]
  },
  {
   "cell_type": "code",
   "execution_count": null,
   "metadata": {
    "collapsed": false
   },
   "outputs": [],
   "source": [
    "# check top records\n",
    "pd.read_csv(data_filepath).head()"
   ]
  },
  {
   "cell_type": "code",
   "execution_count": null,
   "metadata": {
    "collapsed": false
   },
   "outputs": [],
   "source": [
    "# check bottom records\n",
    "pd.read_csv(data_filepath).tail()"
   ]
  }
 ],
 "metadata": {
  "kernelspec": {
   "display_name": "Python 2",
   "language": "python",
   "name": "python2"
  },
  "language_info": {
   "codemirror_mode": {
    "name": "ipython",
    "version": 2
   },
   "file_extension": ".py",
   "mimetype": "text/x-python",
   "name": "python",
   "nbconvert_exporter": "python",
   "pygments_lexer": "ipython2",
   "version": "2.7.10"
  }
 },
 "nbformat": 4,
 "nbformat_minor": 0
}
