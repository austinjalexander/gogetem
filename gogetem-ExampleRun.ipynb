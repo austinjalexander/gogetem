{
 "cells": [
  {
   "cell_type": "markdown",
   "metadata": {},
   "source": [
    "###IMPORTS"
   ]
  },
  {
   "cell_type": "code",
   "execution_count": 1,
   "metadata": {
    "collapsed": true
   },
   "outputs": [],
   "source": [
    "import os\n",
    "from time import time\n",
    "import requests\n",
    "import urllib\n",
    "import numpy as np\n",
    "import pandas as pd"
   ]
  },
  {
   "cell_type": "markdown",
   "metadata": {},
   "source": [
    "###CONFIGURE"
   ]
  },
  {
   "cell_type": "code",
   "execution_count": 2,
   "metadata": {
    "collapsed": false
   },
   "outputs": [],
   "source": [
    "search_keyword = \"apple\"\n",
    "num_of_images = 1000\n",
    "num_of_batches = np.ceil(np.true_divide(num_of_images,500)) # Flickr API constraint: max per page == 500\n",
    "\n",
    "# create storage area for data and image files\n",
    "try:\n",
    "    os.makedirs(search_keyword)\n",
    "    for i in xrange(1,int(num_of_batches)+1):\n",
    "        os.makedirs(search_keyword + \"/batch{}\".format(i))\n",
    "except:\n",
    "    print \"Storage area already exists for this keyword.\""
   ]
  },
  {
   "cell_type": "markdown",
   "metadata": {},
   "source": [
    "###QUERY FLICKR PHOTO SEARCH API"
   ]
  },
  {
   "cell_type": "code",
   "execution_count": 3,
   "metadata": {
    "collapsed": false
   },
   "outputs": [
    {
     "name": "stdout",
     "output_type": "stream",
     "text": [
      "\n",
      "--------------------\n",
      ">>>>> HTTP request status code: 200\n",
      "First result from Flickr photo-search result from batch 1:\n",
      "{u'isfamily': 0, u'title': u'IMG_5957.JPG taken with Apple iPhone 5s', u'farm': 1, u'ispublic': 1, u'server': u'754', u'isfriend': 0, u'secret': u'0c8ed3111b', u'owner': u'28110754@N04', u'id': u'21482492709'}\n",
      "\n",
      "download time for batch 1: 478.01 seconds\n",
      "\n",
      "--------------------\n",
      ">>>>> HTTP request status code: 200\n",
      "First result from Flickr photo-search result from batch 2:\n",
      "{u'isfamily': 0, u'title': u'half the batter, half the apples', u'farm': 6, u'ispublic': 1, u'server': u'5705', u'isfriend': 0, u'secret': u'40b9803837', u'owner': u'12842940@N00', u'id': u'21646885562'}\n",
      "\n",
      "download time for batch 2: 460.62 seconds\n"
     ]
    }
   ],
   "source": [
    "for batch in xrange(1,int(num_of_batches)+1):\n",
    "    print \"\\n\", \"-\"*20 # output a separator\n",
    "    \n",
    "    rest_query = \"https://api.flickr.com/services/rest/?method=flickr.photos.search&api_key={0}&text={1}&per_page={2}&page={3}&format=json&nojsoncallback=1\".format(os.environ['FLICKR_API_KEY'], search_keyword, num_of_images, batch)\n",
    "    r = requests.get(rest_query)\n",
    "    print \">\"*5, \"HTTP request status code:\", r.status_code\n",
    "    # if 200 isn't returned, let user know and break\n",
    "    if r.status_code != 200:\n",
    "        print \"[An error occured with the HTTP request.]\"\n",
    "        break\n",
    "    # otherwise\n",
    "    else:\n",
    "        results = r.json()\n",
    "        # output an example\n",
    "        print \"First result from Flickr photo-search result from batch {}:\".format(batch)\n",
    "        print results['photos']['photo'][0]\n",
    "        \n",
    "        # this dataframe will store image information\n",
    "        images_df = pd.DataFrame(columns=['batch', 'index', 'url'])\n",
    "\n",
    "        # track current image index\n",
    "        index = 0 \n",
    "\n",
    "        # track time\n",
    "        time0 = time()\n",
    "\n",
    "        # loop through each result photo \n",
    "        for photo in results['photos']['photo']:\n",
    "\n",
    "            # relevant values for creating Flickr image URLs\n",
    "            # (see: https://www.flickr.com/services/api/misc.urls.html)\n",
    "            farm_id = photo['farm']\n",
    "            server_id = photo['server']\n",
    "            photo_id = photo['id']\n",
    "            secret = photo['secret']\n",
    "            size = 'm' # size of image (e.g., 's' [75x75], 'm' [longest side 240])\n",
    "\n",
    "            # Flickr image URL format\n",
    "            image_url = 'https://farm{0}.staticflickr.com/{1}/{2}_{3}_{4}.'.format(farm_id, server_id, photo_id, secret, size)\n",
    "\n",
    "            # try each of the three file-format extensions (the three suggested by Flickr), \n",
    "            # breaking after success\n",
    "            for img_format in ['jpg', 'gif', 'png']:\n",
    "                r = requests.get(image_url + img_format)\n",
    "                if r.status_code == 200:\n",
    "                    image_url += img_format\n",
    "                    break\n",
    "\n",
    "            # save image to file\n",
    "            new_filename = str(index) + image_url[-4:] # filename will be index followed my image format extension\n",
    "            new_filepath = \"{0}/batch{1}/{2}\".format(search_keyword, batch, new_filename)\n",
    "            urllib.urlretrieve(image_url, new_filepath) # download image to appropriate location\n",
    "\n",
    "            # create new record for dataframe\n",
    "            new_image_df = pd.DataFrame({'batch':[str(batch)], 'index':[str(index)], 'url':[image_url]})\n",
    "\n",
    "            # add new record to images dataframe\n",
    "            images_df = pd.concat([images_df, new_image_df])\n",
    "\n",
    "            # increment the image index on each iteration\n",
    "            index += 1\n",
    "\n",
    "        print \"\\ndownload time for batch {}:\".format(batch), round(time() - time0, 2), \"seconds\"\n",
    "        \n",
    "        # save image data to csv file\n",
    "        data_filepath = \"{0}/batch{1}.csv\".format(search_keyword, batch)\n",
    "        images_df.to_csv(data_filepath, index=False)"
   ]
  },
  {
   "cell_type": "markdown",
   "metadata": {},
   "source": [
    "###SANITY CHECK"
   ]
  },
  {
   "cell_type": "code",
   "execution_count": 10,
   "metadata": {
    "collapsed": false
   },
   "outputs": [
    {
     "name": "stdout",
     "output_type": "stream",
     "text": [
      "first 5 files:\n",
      "['0.jpg', '1.jpg', '10.jpg', '100.jpg', '101.jpg']\n",
      "\n",
      "last 5 files:\n",
      "['95.jpg', '96.jpg', '97.jpg', '98.jpg', '99.jpg']\n",
      "\n",
      "total number of files: 500\n"
     ]
    }
   ],
   "source": [
    "files = os.listdir(\"{0}/batch1/\".format(search_keyword))\n",
    "print \"first 5 files:\"\n",
    "print files[:5] # sorted by OS (naming) convention\n",
    "\n",
    "print \"\\nlast 5 files:\"\n",
    "print files[-5:] # sorted by OS (naming) convention\n",
    "\n",
    "print \"\\ntotal number of files:\", len(files)"
   ]
  },
  {
   "cell_type": "code",
   "execution_count": 11,
   "metadata": {
    "collapsed": true
   },
   "outputs": [],
   "source": [
    "data_filepath = \"{0}/batch2.csv\".format(search_keyword)"
   ]
  },
  {
   "cell_type": "code",
   "execution_count": 12,
   "metadata": {
    "collapsed": false
   },
   "outputs": [
    {
     "data": {
      "text/html": [
       "<div style=\"max-height:1000px;max-width:1500px;overflow:auto;\">\n",
       "<table border=\"1\" class=\"dataframe\">\n",
       "  <thead>\n",
       "    <tr style=\"text-align: right;\">\n",
       "      <th></th>\n",
       "      <th>batch</th>\n",
       "      <th>index</th>\n",
       "      <th>url</th>\n",
       "    </tr>\n",
       "  </thead>\n",
       "  <tbody>\n",
       "    <tr>\n",
       "      <th>0</th>\n",
       "      <td>2</td>\n",
       "      <td>0</td>\n",
       "      <td>https://farm6.staticflickr.com/5705/2164688556...</td>\n",
       "    </tr>\n",
       "    <tr>\n",
       "      <th>1</th>\n",
       "      <td>2</td>\n",
       "      <td>1</td>\n",
       "      <td>https://farm1.staticflickr.com/741/21471442649...</td>\n",
       "    </tr>\n",
       "    <tr>\n",
       "      <th>2</th>\n",
       "      <td>2</td>\n",
       "      <td>2</td>\n",
       "      <td>https://farm1.staticflickr.com/619/21035602304...</td>\n",
       "    </tr>\n",
       "    <tr>\n",
       "      <th>3</th>\n",
       "      <td>2</td>\n",
       "      <td>3</td>\n",
       "      <td>https://farm6.staticflickr.com/5747/2164688488...</td>\n",
       "    </tr>\n",
       "    <tr>\n",
       "      <th>4</th>\n",
       "      <td>2</td>\n",
       "      <td>4</td>\n",
       "      <td>https://farm6.staticflickr.com/5829/2165825668...</td>\n",
       "    </tr>\n",
       "  </tbody>\n",
       "</table>\n",
       "</div>"
      ],
      "text/plain": [
       "   batch  index                                                url\n",
       "0      2      0  https://farm6.staticflickr.com/5705/2164688556...\n",
       "1      2      1  https://farm1.staticflickr.com/741/21471442649...\n",
       "2      2      2  https://farm1.staticflickr.com/619/21035602304...\n",
       "3      2      3  https://farm6.staticflickr.com/5747/2164688488...\n",
       "4      2      4  https://farm6.staticflickr.com/5829/2165825668..."
      ]
     },
     "execution_count": 12,
     "metadata": {},
     "output_type": "execute_result"
    }
   ],
   "source": [
    "# check top records\n",
    "pd.read_csv(data_filepath).head()"
   ]
  },
  {
   "cell_type": "code",
   "execution_count": 13,
   "metadata": {
    "collapsed": false
   },
   "outputs": [
    {
     "data": {
      "text/html": [
       "<div style=\"max-height:1000px;max-width:1500px;overflow:auto;\">\n",
       "<table border=\"1\" class=\"dataframe\">\n",
       "  <thead>\n",
       "    <tr style=\"text-align: right;\">\n",
       "      <th></th>\n",
       "      <th>batch</th>\n",
       "      <th>index</th>\n",
       "      <th>url</th>\n",
       "    </tr>\n",
       "  </thead>\n",
       "  <tbody>\n",
       "    <tr>\n",
       "      <th>495</th>\n",
       "      <td>2</td>\n",
       "      <td>495</td>\n",
       "      <td>https://farm6.staticflickr.com/5830/2146023336...</td>\n",
       "    </tr>\n",
       "    <tr>\n",
       "      <th>496</th>\n",
       "      <td>2</td>\n",
       "      <td>496</td>\n",
       "      <td>https://farm6.staticflickr.com/5802/2146022960...</td>\n",
       "    </tr>\n",
       "    <tr>\n",
       "      <th>497</th>\n",
       "      <td>2</td>\n",
       "      <td>497</td>\n",
       "      <td>https://farm1.staticflickr.com/709/21635703572...</td>\n",
       "    </tr>\n",
       "    <tr>\n",
       "      <th>498</th>\n",
       "      <td>2</td>\n",
       "      <td>498</td>\n",
       "      <td>https://farm6.staticflickr.com/5790/2145910376...</td>\n",
       "    </tr>\n",
       "    <tr>\n",
       "      <th>499</th>\n",
       "      <td>2</td>\n",
       "      <td>499</td>\n",
       "      <td>https://farm1.staticflickr.com/767/21635429412...</td>\n",
       "    </tr>\n",
       "  </tbody>\n",
       "</table>\n",
       "</div>"
      ],
      "text/plain": [
       "     batch  index                                                url\n",
       "495      2    495  https://farm6.staticflickr.com/5830/2146023336...\n",
       "496      2    496  https://farm6.staticflickr.com/5802/2146022960...\n",
       "497      2    497  https://farm1.staticflickr.com/709/21635703572...\n",
       "498      2    498  https://farm6.staticflickr.com/5790/2145910376...\n",
       "499      2    499  https://farm1.staticflickr.com/767/21635429412..."
      ]
     },
     "execution_count": 13,
     "metadata": {},
     "output_type": "execute_result"
    }
   ],
   "source": [
    "# check bottom records\n",
    "pd.read_csv(data_filepath).tail()"
   ]
  }
 ],
 "metadata": {
  "kernelspec": {
   "display_name": "Python 2",
   "language": "python",
   "name": "python2"
  },
  "language_info": {
   "codemirror_mode": {
    "name": "ipython",
    "version": 2
   },
   "file_extension": ".py",
   "mimetype": "text/x-python",
   "name": "python",
   "nbconvert_exporter": "python",
   "pygments_lexer": "ipython2",
   "version": "2.7.10"
  }
 },
 "nbformat": 4,
 "nbformat_minor": 0
}
